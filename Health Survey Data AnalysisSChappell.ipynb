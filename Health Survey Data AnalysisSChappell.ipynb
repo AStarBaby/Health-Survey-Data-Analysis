{
 "cells": [
  {
   "cell_type": "markdown",
   "metadata": {},
   "source": [
    "# Health Survey Data Analysis\n",
    "\n",
    "Scharmaine Chappell"
   ]
  },
  {
   "cell_type": "markdown",
   "metadata": {},
   "source": [
    "## Executive Summary\n",
    "\n",
    "For this analysis we are using state health departments survey responses collected for a yearly evaluation by the CDC. Here are are going to evaluate the data for any correlations between physical health (PHYSHLTH) and home ownership (RENTHOM1)."
   ]
  },
  {
   "cell_type": "markdown",
   "metadata": {},
   "source": [
    "## The Data\n",
    "\n",
    "Our data source is CDC Behavioral Risk Factor Surveillance System (BRFSS), https://www.cdc.gov/brfss/data_documentation/index.htm. It is a yearly telephone survey that is an accumulation of surveys taken by each state, Washington, DC and the US territories. Participants are questioned to evaluate possibly risky and preventative behaviors in regards to their own health factors. Each state completes at least 4,000 interview, per month, per year. Questions can be the same and or uniquely relevant to the specific year. Our data on hand is for the state of New York with over 10,000 records in our sample size.\n",
    "\n",
    "#### PHYSHLTH responses are in response to a question of how many days in th the last 30 did they have any health concerns.\n",
    "\n",
    "#### RENTHOM1 responses are in response to question of whether they rent or own their current residence\n"
   ]
  },
  {
   "cell_type": "code",
   "execution_count": 1,
   "metadata": {},
   "outputs": [],
   "source": [
    "import matplotlib.pyplot as plt\n",
    "import numpy as np\n",
    "import pandas as pd\n",
    "import scipy.stats as stats\n",
    "import seaborn as sns\n",
    "import warnings\n",
    "warnings.filterwarnings(\"ignore\", category=DeprecationWarning)\n",
    "\n",
    "file_path = \"https://raw.githubusercontent.com/learn-co-curriculum/da-phase3-project-enterprise/main/brfss_ny.csv\"\n",
    "df = pd.read_csv(file_path)"
   ]
  },
  {
   "cell_type": "code",
   "execution_count": 2,
   "metadata": {},
   "outputs": [
    {
     "data": {
      "text/plain": [
       "88.0    10565\n",
       "30.0      768\n",
       "2.0       597\n",
       "1.0       410\n",
       "5.0       367\n",
       "3.0       361\n",
       "77.0      248\n",
       "10.0      231\n",
       "7.0       209\n",
       "15.0      194\n",
       "4.0       163\n",
       "20.0      147\n",
       "14.0      144\n",
       "99.0       81\n",
       "25.0       55\n",
       "6.0        47\n",
       "8.0        45\n",
       "21.0       26\n",
       "28.0       22\n",
       "12.0       22\n",
       "9.0        11\n",
       "29.0        8\n",
       "13.0        7\n",
       "18.0        6\n",
       "17.0        6\n",
       "16.0        6\n",
       "24.0        5\n",
       "27.0        5\n",
       "11.0        4\n",
       "26.0        3\n",
       "23.0        3\n",
       "19.0        2\n",
       "22.0        1\n",
       "Name: PHYSHLTH, dtype: int64"
      ]
     },
     "execution_count": 2,
     "metadata": {},
     "output_type": "execute_result"
    }
   ],
   "source": [
    "#VERIFYING THE NUMBER OF RESPONSES FOR EACH POSSIBLE ANSWER\n",
    "#WE SEE THAT A MAJORITY OF OUR SAMPLE SET HAD A NO DAYS OF HEALTH CONCERNS IN THE LAST 30 DAYS(88)\n",
    "df.PHYSHLTH.value_counts()\n"
   ]
  },
  {
   "cell_type": "code",
   "execution_count": 3,
   "metadata": {},
   "outputs": [
    {
     "name": "stderr",
     "output_type": "stream",
     "text": [
      "/opt/conda/lib/python3.9/site-packages/seaborn/distributions.py:2557: FutureWarning: `distplot` is a deprecated function and will be removed in a future version. Please adapt your code to use either `displot` (a figure-level function with similar flexibility) or `histplot` (an axes-level function for histograms).\n",
      "  warnings.warn(msg, FutureWarning)\n"
     ]
    },
    {
     "data": {
      "text/plain": [
       "<AxesSubplot:xlabel='PHYSHLTH', ylabel='Density'>"
      ]
     },
     "execution_count": 3,
     "metadata": {},
     "output_type": "execute_result"
    },
    {
     "data": {
      "image/png": "[encoded data removed]",
      "text/plain": [
       "<Figure size 432x288 with 1 Axes>"
      ]
     },
     "metadata": {
      "needs_background": "light"
     },
     "output_type": "display_data"
    }
   ],
   "source": [
    "#VISUALIZING PHYSHLTH DATA BEFORE CLEAN UP\n",
    "sns.distplot(df.PHYSHLTH)"
   ]
  },
  {
   "cell_type": "code",
   "execution_count": 4,
   "metadata": {
    "scrolled": false
   },
   "outputs": [
    {
     "data": {
      "text/plain": [
       "0"
      ]
     },
     "execution_count": 4,
     "metadata": {},
     "output_type": "execute_result"
    }
   ],
   "source": [
    "df.PHYSHLTH.isna().sum()"
   ]
  },
  {
   "cell_type": "code",
   "execution_count": 5,
   "metadata": {},
   "outputs": [
    {
     "data": {
      "text/plain": [
       "1.0    8587\n",
       "2.0    5370\n",
       "3.0     608\n",
       "9.0     147\n",
       "7.0      57\n",
       "Name: RENTHOM1, dtype: int64"
      ]
     },
     "execution_count": 5,
     "metadata": {},
     "output_type": "execute_result"
    }
   ],
   "source": [
    "df.RENTHOM1.value_counts()"
   ]
  },
  {
   "cell_type": "code",
   "execution_count": 6,
   "metadata": {
    "scrolled": true
   },
   "outputs": [
    {
     "name": "stderr",
     "output_type": "stream",
     "text": [
      "/opt/conda/lib/python3.9/site-packages/seaborn/distributions.py:2557: FutureWarning: `distplot` is a deprecated function and will be removed in a future version. Please adapt your code to use either `displot` (a figure-level function with similar flexibility) or `histplot` (an axes-level function for histograms).\n",
      "  warnings.warn(msg, FutureWarning)\n"
     ]
    },
    {
     "data": {
      "text/plain": [
       "<AxesSubplot:xlabel='RENTHOM1', ylabel='Density'>"
      ]
     },
     "execution_count": 6,
     "metadata": {},
     "output_type": "execute_result"
    },
    {
     "data": {
      "image/png": "[encoded data removed]",
      "text/plain": [
       "<Figure size 432x288 with 1 Axes>"
      ]
     },
     "metadata": {
      "needs_background": "light"
     },
     "output_type": "display_data"
    }
   ],
   "source": [
    "#VISUALIZING RENTHOM1 DATA BEFORE CLEAN UP\n",
    "sns.distplot(df.RENTHOM1)\n"
   ]
  },
  {
   "cell_type": "code",
   "execution_count": 7,
   "metadata": {},
   "outputs": [
    {
     "data": {
      "text/plain": [
       "0"
      ]
     },
     "execution_count": 7,
     "metadata": {},
     "output_type": "execute_result"
    }
   ],
   "source": [
    "#CHECKING FOR ANY EMPTY OR NAN VALUES\n",
    "df.RENTHOM1.isna().sum()"
   ]
  },
  {
   "cell_type": "markdown",
   "metadata": {},
   "source": [
    "## Data Preparation\n",
    "\n",
    "#### We must minimize the data to only the aspects we will be using for our current needs. We want to only include data that states the number of days of health issues. Therefore our range will only be for responses of 0 to 30. The only responses kept in regards to home ownership are whether they own or rent, 1 or 2.\n",
    "\n",
    "#### See chart below for an explanation of responses possible for each catagory.\n",
    "\n",
    "\"PHYSHLTH\n",
    "| 1 - 30 : Number of days       |\n",
    "| 88     : None                 |\n",
    "| 77     : Don't know/Not sure  |\n",
    "| 99     : Refused              |\n",
    "| BLANK  : Not asked or Missing |\"\n",
    "\n",
    "\"RENTHOM1\n",
    "| 1     : Own                  |\n",
    "| 2     : Rent                 |\n",
    "| 3     : Other arrangement    |\n",
    "| 7     : Don't know/Not Sure  |\n",
    "| 9     : Refused              |\n",
    "| BLANK : Not asked or Missing |\""
   ]
  },
  {
   "cell_type": "code",
   "execution_count": 8,
   "metadata": {
    "scrolled": false
   },
   "outputs": [
    {
     "data": {
      "text/plain": [
       "0         0.0\n",
       "1        14.0\n",
       "2         0.0\n",
       "3         5.0\n",
       "4         0.0\n",
       "         ... \n",
       "14764     0.0\n",
       "14765     0.0\n",
       "14766     2.0\n",
       "14767     0.0\n",
       "14768     0.0\n",
       "Name: PHYSHLTH, Length: 14769, dtype: float64"
      ]
     },
     "execution_count": 8,
     "metadata": {},
     "output_type": "execute_result"
    }
   ],
   "source": [
    "#CONVERT ALL PHYSHLTH ENTRIES OF 88(NONE) to 0\n",
    "df.PHYSHLTH.replace(88.0,0,inplace = True)\n",
    "df.PHYSHLTH"
   ]
  },
  {
   "cell_type": "code",
   "execution_count": 9,
   "metadata": {
    "scrolled": true
   },
   "outputs": [
    {
     "data": {
      "text/plain": [
       "0         0.0\n",
       "1        14.0\n",
       "2         0.0\n",
       "3         5.0\n",
       "4         0.0\n",
       "         ... \n",
       "14764     0.0\n",
       "14765     0.0\n",
       "14766     2.0\n",
       "14767     0.0\n",
       "14768     0.0\n",
       "Name: PHYSHLTH, Length: 14769, dtype: float64"
      ]
     },
     "execution_count": 9,
     "metadata": {},
     "output_type": "execute_result"
    }
   ],
   "source": [
    "#DROP PHYSHLTH ENTRIES OF BLANK(NAN)\n",
    "df.PHYSHLTH.dropna\n",
    "df.PHYSHLTH"
   ]
  },
  {
   "cell_type": "code",
   "execution_count": 10,
   "metadata": {
    "scrolled": true
   },
   "outputs": [
    {
     "data": {
      "text/plain": [
       "0.0     10565\n",
       "30.0      768\n",
       "2.0       597\n",
       "1.0       410\n",
       "5.0       367\n",
       "3.0       361\n",
       "10.0      231\n",
       "7.0       209\n",
       "15.0      194\n",
       "4.0       163\n",
       "20.0      147\n",
       "14.0      144\n",
       "25.0       55\n",
       "6.0        47\n",
       "8.0        45\n",
       "21.0       26\n",
       "28.0       22\n",
       "12.0       22\n",
       "9.0        11\n",
       "29.0        8\n",
       "13.0        7\n",
       "18.0        6\n",
       "17.0        6\n",
       "16.0        6\n",
       "24.0        5\n",
       "27.0        5\n",
       "11.0        4\n",
       "26.0        3\n",
       "23.0        3\n",
       "19.0        2\n",
       "22.0        1\n",
       "Name: PHYSHLTH, dtype: int64"
      ]
     },
     "execution_count": 10,
     "metadata": {},
     "output_type": "execute_result"
    }
   ],
   "source": [
    "#UPDATE DATABASE WITH PHYSHLTH EXCLUDING 77 & 99 VALUES\n",
    "df = df[df['PHYSHLTH'] <=30]\n",
    "df['PHYSHLTH'].value_counts()"
   ]
  },
  {
   "cell_type": "code",
   "execution_count": 11,
   "metadata": {
    "scrolled": false
   },
   "outputs": [
    {
     "name": "stderr",
     "output_type": "stream",
     "text": [
      "/opt/conda/lib/python3.9/site-packages/seaborn/distributions.py:2557: FutureWarning: `distplot` is a deprecated function and will be removed in a future version. Please adapt your code to use either `displot` (a figure-level function with similar flexibility) or `histplot` (an axes-level function for histograms).\n",
      "  warnings.warn(msg, FutureWarning)\n"
     ]
    },
    {
     "data": {
      "text/plain": [
       "<AxesSubplot:xlabel='PHYSHLTH', ylabel='Density'>"
      ]
     },
     "execution_count": 11,
     "metadata": {},
     "output_type": "execute_result"
    },
    {
     "data": {
      "image/png": "[encoded data removed]",
      "text/plain": [
       "<Figure size 432x288 with 1 Axes>"
      ]
     },
     "metadata": {
      "needs_background": "light"
     },
     "output_type": "display_data"
    }
   ],
   "source": [
    "#VISUALIZING PHYSHLTH DATA AFTER CLEANING UP WHERE 88(NONE) IS REGISTERED AS 0\n",
    "#AND ONLY ANSWERS 30 OR LESS ARE REPRESENTED\n",
    "sns.distplot(df.PHYSHLTH)"
   ]
  },
  {
   "cell_type": "code",
   "execution_count": 12,
   "metadata": {
    "scrolled": true
   },
   "outputs": [
    {
     "data": {
      "text/plain": [
       "1.0    8453\n",
       "2.0    5206\n",
       "3.0     585\n",
       "9.0     141\n",
       "7.0      55\n",
       "Name: RENTHOM1, dtype: int64"
      ]
     },
     "execution_count": 12,
     "metadata": {},
     "output_type": "execute_result"
    }
   ],
   "source": [
    "df.RENTHOM1.value_counts()"
   ]
  },
  {
   "cell_type": "code",
   "execution_count": 13,
   "metadata": {},
   "outputs": [
    {
     "data": {
      "text/plain": [
       "0        2.0\n",
       "1        1.0\n",
       "2        2.0\n",
       "3        3.0\n",
       "4        2.0\n",
       "        ... \n",
       "14764    2.0\n",
       "14765    2.0\n",
       "14766    2.0\n",
       "14767    2.0\n",
       "14768    3.0\n",
       "Name: RENTHOM1, Length: 14440, dtype: float64"
      ]
     },
     "execution_count": 13,
     "metadata": {},
     "output_type": "execute_result"
    }
   ],
   "source": [
    "#DROP RENTHOM1 ENTRIES OF BLANK(NAN)\n",
    "df.RENTHOM1.dropna\n",
    "df.RENTHOM1"
   ]
  },
  {
   "cell_type": "code",
   "execution_count": 14,
   "metadata": {},
   "outputs": [
    {
     "data": {
      "text/plain": [
       "1.0    8453\n",
       "2.0    5206\n",
       "Name: RENTHOM1, dtype: int64"
      ]
     },
     "execution_count": 14,
     "metadata": {},
     "output_type": "execute_result"
    }
   ],
   "source": [
    "#UPDATE DATABASE WITH RENTHOM1 EXCLUDING VALUES OF 3, 7 & 9\n",
    "df = df[df['RENTHOM1'] <= 2]\n",
    "df['RENTHOM1'].value_counts()"
   ]
  },
  {
   "cell_type": "code",
   "execution_count": 15,
   "metadata": {},
   "outputs": [
    {
     "name": "stderr",
     "output_type": "stream",
     "text": [
      "/opt/conda/lib/python3.9/site-packages/seaborn/distributions.py:2557: FutureWarning: `distplot` is a deprecated function and will be removed in a future version. Please adapt your code to use either `displot` (a figure-level function with similar flexibility) or `histplot` (an axes-level function for histograms).\n",
      "  warnings.warn(msg, FutureWarning)\n"
     ]
    },
    {
     "data": {
      "text/plain": [
       "<AxesSubplot:xlabel='RENTHOM1', ylabel='Density'>"
      ]
     },
     "execution_count": 15,
     "metadata": {},
     "output_type": "execute_result"
    },
    {
     "data": {
      "image/png": "[encoded data removed]",
      "text/plain": [
       "<Figure size 432x288 with 1 Axes>"
      ]
     },
     "metadata": {
      "needs_background": "light"
     },
     "output_type": "display_data"
    }
   ],
   "source": [
    "#VISUALIZING RENTHLTH DATA AFTER CLEANING UP REPRESENTING ONLY ANSWERS OF 1 OR 2\n",
    "sns.distplot(df.RENTHOM1)"
   ]
  },
  {
   "cell_type": "markdown",
   "metadata": {},
   "source": [
    "## Confidence Interval for Mean of `PHYSHLTH`\n",
    "#### We will be calculating for a 95% confidence interval"
   ]
  },
  {
   "cell_type": "code",
   "execution_count": 16,
   "metadata": {
    "scrolled": true
   },
   "outputs": [
    {
     "data": {
      "text/plain": [
       "3.064646020938575"
      ]
     },
     "execution_count": 16,
     "metadata": {},
     "output_type": "execute_result"
    }
   ],
   "source": [
    "#FINDING THE MEAN((x_bar) OF SAMPLE PHYSHLTH)\n",
    "x_bar = df.PHYSHLTH.mean()\n",
    "x_bar"
   ]
  },
  {
   "cell_type": "code",
   "execution_count": 17,
   "metadata": {},
   "outputs": [
    {
     "data": {
      "text/plain": [
       "7.581325164851767"
      ]
     },
     "execution_count": 17,
     "metadata": {},
     "output_type": "execute_result"
    }
   ],
   "source": [
    "#FINDING THE STANDARD DEVIATION OF SAMPLE PHYSHLTH\n",
    "s = df.PHYSHLTH.std(ddof = 1)\n",
    "s"
   ]
  },
  {
   "cell_type": "code",
   "execution_count": 18,
   "metadata": {},
   "outputs": [
    {
     "data": {
      "text/plain": [
       "0.06486877124339503"
      ]
     },
     "execution_count": 18,
     "metadata": {},
     "output_type": "execute_result"
    }
   ],
   "source": [
    "#FINDING THE STANDARD ERROR OF\n",
    "se = s/ np.sqrt(len(df.PHYSHLTH))\n",
    "se"
   ]
  },
  {
   "cell_type": "code",
   "execution_count": 19,
   "metadata": {},
   "outputs": [
    {
     "data": {
      "text/plain": [
       "13658"
      ]
     },
     "execution_count": 19,
     "metadata": {},
     "output_type": "execute_result"
    }
   ],
   "source": [
    "#FINDING DEGREES OF FREEDOM OF PHYSHLTH\n",
    "dof = len(df.PHYSHLTH) - 1\n",
    "dof"
   ]
  },
  {
   "cell_type": "code",
   "execution_count": 20,
   "metadata": {
    "scrolled": true
   },
   "outputs": [
    {
     "data": {
      "text/plain": [
       "-1.960137690638995"
      ]
     },
     "execution_count": 20,
     "metadata": {},
     "output_type": "execute_result"
    }
   ],
   "source": [
    "#FINDING THE T-CRITICAL VALUE\n",
    "t_crit = stats.t.ppf((1-0.95)/2, dof)\n",
    "t_crit"
   ]
  },
  {
   "cell_type": "code",
   "execution_count": 21,
   "metadata": {},
   "outputs": [
    {
     "name": "stdout",
     "output_type": "stream",
     "text": [
      "PHYSHLTH Confidence Interval: (2.9374942974789575, 3.1917977443981926)\n"
     ]
    }
   ],
   "source": [
    "#FINDOING THE MARGIN OF ERROR AND OUR RESULTING CONFIDENCE LEVEL\n",
    "moe = t_crit * se\n",
    "conf_int = (x_bar + moe), (x_bar - moe)\n",
    "print(\"PHYSHLTH Confidence Interval:\", conf_int)\n"
   ]
  },
  {
   "cell_type": "code",
   "execution_count": 22,
   "metadata": {},
   "outputs": [
    {
     "name": "stdout",
     "output_type": "stream",
     "text": [
      "CONFIDENCE LEVEL CONFIRMATION: (2.9374942974789575, 3.1917977443981926)\n"
     ]
    }
   ],
   "source": [
    "#CONFIRMING OUR RESULTS\n",
    "confirm_ci = stats.t.interval(alpha = 0.95,                             \n",
    "                 df= dof,            \n",
    "                 loc = x_bar,                               \n",
    "                 scale = se)\n",
    "print(\"CONFIDENCE LEVEL CONFIRMATION:\", confirm_ci)"
   ]
  },
  {
   "cell_type": "markdown",
   "metadata": {},
   "source": [
    "We are 95% confident that the mean PHYSHLTH of the population is between 2.937 and 3.191."
   ]
  },
  {
   "cell_type": "markdown",
   "metadata": {},
   "source": [
    "## Differences in `PHYSHLTH` Based on `RENTHOM1`\n",
    "\n",
    "### How Does `PHYSHLTH` Differ Based on `RENTHOM1`?\n",
    "\n",
    "#### Here we will create new databases. One will include only data where RENTHOM1 == 1(OWNS). A second where RENTHOM1 == 2(RENTS). Then we will compare the PHYSHLTH results of each of these two databases only."
   ]
  },
  {
   "cell_type": "code",
   "execution_count": 23,
   "metadata": {},
   "outputs": [
    {
     "data": {
      "text/plain": [
       "1.0    8453\n",
       "Name: RENTHOM1, dtype: int64"
      ]
     },
     "execution_count": 23,
     "metadata": {},
     "output_type": "execute_result"
    }
   ],
   "source": [
    "#CREATING NEW DATABASE OF HOME OWNERS ONLY\n",
    "df_own = df[df['RENTHOM1'] == 1.0 ]\n",
    "df_own.RENTHOM1.value_counts()"
   ]
  },
  {
   "cell_type": "code",
   "execution_count": 24,
   "metadata": {},
   "outputs": [
    {
     "data": {
      "text/plain": [
       "2.0    5206\n",
       "Name: RENTHOM1, dtype: int64"
      ]
     },
     "execution_count": 24,
     "metadata": {},
     "output_type": "execute_result"
    }
   ],
   "source": [
    "#CREATING NEW DATABASE OF RENTERS ONLY\n",
    "df_rent = df[df['RENTHOM1'] == 2.0 ]\n",
    "df_rent.RENTHOM1.value_counts()"
   ]
  },
  {
   "cell_type": "code",
   "execution_count": 25,
   "metadata": {},
   "outputs": [],
   "source": [
    "#CREATING NEW VARIABLES CONTAINING PHYSHLTH DATA SPECIFIC TO OWNERSHIP OR RENTING RESIDENCE\n",
    "renters_hlth = df_rent.PHYSHLTH\n",
    "owners_hlth = df_own.PHYSHLTH"
   ]
  },
  {
   "cell_type": "code",
   "execution_count": 26,
   "metadata": {
    "scrolled": false
   },
   "outputs": [
    {
     "data": {
      "text/plain": [
       "<matplotlib.legend.Legend at 0x7f637042de20>"
      ]
     },
     "execution_count": 26,
     "metadata": {},
     "output_type": "execute_result"
    },
    {
     "data": {
      "image/png": "[encoded data removed]",
      "text/plain": [
       "<Figure size 432x288 with 1 Axes>"
      ]
     },
     "metadata": {
      "needs_background": "light"
     },
     "output_type": "display_data"
    }
   ],
   "source": [
    "fig,ax = plt.subplots()\n",
    "\n",
    "ax.hist(owners_hlth, label = 'own', alpha = 0.5, color = \"yellow\" )\n",
    "ax.hist(renters_hlth, label = 'rent', color = \"violet\")\n",
    "\n",
    "\n",
    "ax.legend()"
   ]
  },
  {
   "cell_type": "markdown",
   "metadata": {},
   "source": [
    "We are seeing that those that home ownership health has less outliers in the higher ranges."
   ]
  },
  {
   "cell_type": "markdown",
   "metadata": {},
   "source": [
    "### Is the Difference Statistically Significant?\n",
    "\n",
    "#### H_0 = There is no significant difference in health between those that own their home versus those that rent.\n",
    "\n",
    "#### H_a = There is a significant difference in health between those that own their home versus those that rent.\n",
    "\n",
    "#### We are evaluating two different variables, of different sample-sizes, with a 95% confidence interval, therefore I would use a two-tail test."
   ]
  },
  {
   "cell_type": "code",
   "execution_count": 27,
   "metadata": {},
   "outputs": [],
   "source": [
    "#USING A SIGNIFICANCE LEVEL = %5\n",
    "alpha = 0.05\n",
    "\n",
    "#FINDING THE MEAN OF OUR POPULATION (TOTAL DATABASE OF ENTIRE SURVEY)\n",
    "mu = np.mean(df.PHYSHLTH)\n",
    "\n",
    "\n",
    "#FINDING THE SAMPLE MEAN OF EACH DATASET\n",
    "\n",
    "x_bar1 = np.mean(owners_hlth)\n",
    "x_bar2 = np.mean(renters_hlth)\n",
    "\n",
    "#FINDING THE DIFFERENCE BETWEEN THE SAMPLE AND POPULATION MEANS\n",
    "diff_1 = x_bar1 - mu\n",
    "diff_2 = x_bar2 - mu\n",
    "\n",
    "#FINDING THE STANDARD DEVIATION OF EACH DATASET\n",
    "\n",
    "s_1 = np.std(owners_hlth, ddof = 1)\n",
    "s_2 = np.std(renters_hlth, ddof = 1)\n",
    "\n",
    "#FINDING THE NUMBER OF OBESERVATIONS OF EACH DATASET\n",
    "\n",
    "n_1 = len(owners_hlth)\n",
    "n_2 = len(renters_hlth)\n",
    "\n",
    "#FINDING THE DEGREES OF FREEDOM OF EACH DATASET\n",
    "df_1 = n_1 - 1\n",
    "df_2 = n_2 - 1"
   ]
  },
  {
   "cell_type": "code",
   "execution_count": 28,
   "metadata": {
    "scrolled": true
   },
   "outputs": [
    {
     "name": "stdout",
     "output_type": "stream",
     "text": [
      " The owners_hlth sample contains 8453 observations, having a mean of 2.675854726132734\n",
      "and a standard deviation (sigma) of 7.109, with 8452 degrees of freedom.\n",
      "\n",
      "The difference between the sample mean and the population mean is -0.39\n",
      " The renters_hlth sample contains 5206 observations, having a mean of 3.6959277756434883\n",
      "and a standard deviation (sigma) of 8.253, with 5205 degrees of freedom.\n",
      "\n",
      "The difference between the sample mean and the population mean is 0.63\n"
     ]
    }
   ],
   "source": [
    "print (f\"\"\" The owners_hlth sample contains {n_1} observations, having a mean of {x_bar1}\n",
    "and a standard deviation (sigma) of {round(s_1, 3)}, with {df_1} degrees of freedom.\n",
    "\n",
    "The difference between the sample mean and the population mean is {round(diff_1, 2)}\"\"\" )\n",
    "\n",
    "print (f\"\"\" The renters_hlth sample contains {n_2} observations, having a mean of {x_bar2}\n",
    "and a standard deviation (sigma) of {round(s_2, 3)}, with {df_2} degrees of freedom.\n",
    "\n",
    "The difference between the sample mean and the population mean is {round(diff_2, 2)}\"\"\")"
   ]
  },
  {
   "cell_type": "code",
   "execution_count": 29,
   "metadata": {
    "scrolled": true
   },
   "outputs": [
    {
     "data": {
      "image/png": "[encoded data removed]",
      "text/plain": [
       "<Figure size 432x288 with 1 Axes>"
      ]
     },
     "metadata": {
      "needs_background": "light"
     },
     "output_type": "display_data"
    }
   ],
   "source": [
    "f, ax = plt.subplots()\n",
    "\n",
    "sns.set(color_codes=True)\n",
    "sns.histplot(owners_hlth, kde=True, bins=5)\n",
    "\n",
    "sns.set(color_codes=True, palette = \"rocket\")\n",
    "sns.histplot(renters_hlth, kde=True, bins=5);"
   ]
  },
  {
   "cell_type": "code",
   "execution_count": 30,
   "metadata": {},
   "outputs": [
    {
     "name": "stdout",
     "output_type": "stream",
     "text": [
      "owners_h_t_stat: -5.028 renters_h_t_stat: 5.519\n"
     ]
    }
   ],
   "source": [
    "#CALCULATING THE T-STATISTIC\n",
    "t_1=(x_bar1 - mu)/(s_1/np.sqrt(n_1))\n",
    "t_2=(x_bar2 - mu)/(s_2/np.sqrt(n_2))\n",
    "\n",
    "print(\"owners_h_t_stat:\", round(t_1, 3),\n",
    "      \"renters_h_t_stat:\", round(t_2, 3))"
   ]
  },
  {
   "cell_type": "code",
   "execution_count": 31,
   "metadata": {},
   "outputs": [
    {
     "name": "stdout",
     "output_type": "stream",
     "text": [
      "t_crit: -1.960137690638995\n"
     ]
    }
   ],
   "source": [
    "#PREVIOUSLY CALCULATED PHYSHLTH T-CRITICAL\n",
    "print(\"t_crit:\", t_crit)"
   ]
  },
  {
   "cell_type": "code",
   "execution_count": 32,
   "metadata": {},
   "outputs": [
    {
     "name": "stdout",
     "output_type": "stream",
     "text": [
      "Our p-value is: 0.001\n"
     ]
    }
   ],
   "source": [
    "#CALCULATING P-VALUE\n",
    "p = stats.norm.sf(x_bar)\n",
    "print(\"Our p-value is:\", round(p,3))"
   ]
  },
  {
   "cell_type": "markdown",
   "metadata": {},
   "source": [
    "### With a p-value of 0.001, which is highly significant, we will be rejecting the null hypothis at confidence level of %5. \n"
   ]
  },
  {
   "cell_type": "markdown",
   "metadata": {},
   "source": [
    "## Next Steps\n",
    "\n",
    "### With these findings, I would like to see how total income (INCOME2) and whether or not one has health care coverage (HLTHPLN1) effects physical health (PHYSHLTH). My null hypothisis would be that one or the other does not have an affect on PHYSHLTH. My alternate hypothisis is that one or the other has some level of significance on PHYSHLTH."
   ]
  },
  {
   "cell_type": "code",
   "execution_count": null,
   "metadata": {},
   "outputs": [],
   "source": []
  }
 ],
 "metadata": {
  "kernelspec": {
   "display_name": "Python 3",
   "language": "python",
   "name": "python3"
  },
  "language_info": {
   "codemirror_mode": {
    "name": "ipython",
    "version": 3
   },
   "file_extension": ".py",
   "mimetype": "text/x-python",
   "name": "python",
   "nbconvert_exporter": "python",
   "pygments_lexer": "ipython3",
   "version": "3.9.5"
  }
 },
 "nbformat": 4,
 "nbformat_minor": 4
}
